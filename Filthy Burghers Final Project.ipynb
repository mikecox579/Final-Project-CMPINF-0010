{
 "cells": [
  {
   "cell_type": "markdown",
   "metadata": {},
   "source": [
    "# Best Neighborhood in Pittsburgh\n",
    "\n",
    "## Team Filthy Burghers\n",
    "\n",
    "#### Introduction"
   ]
  },
  {
   "cell_type": "markdown",
   "metadata": {},
   "source": [
    "Using the datasets provided by the WPRDC, our team used the following factors to determine the best neighborhood in Pittsburgh as:\n",
    "\n",
    "* Education\n",
    "* Employment\n",
    "* Code Violations\n",
    "\n",
    "Education data was included because generally good education leads to a good neighborhood. Good education causes property prices to increase and makes the area more sought after bringing in wealthier people. The best way to figure out the best education in each neighborhood was by looking at the percents of Bachelor's degrees and Post Graduate's degrees comparing the percentages to the population. Employment was included because the more people that are employed the more money that is being brought in. For employment we used the number of people employed in each neighborhood compared to the populatin of the neighborhood. With more money people have more to give to the community allowing it to prosper and grow. Finally, Code Violations were included because the less code violations that a neighborhood has means that the buildings were built well, being maintained well, and safer to the general public. The approximate number of buildings in each neighborhood was taken into consideration, so that larger neighborhood wouldn't be at a "
   ]
  }
 ],
 "metadata": {
  "kernelspec": {
   "display_name": "Python 3",
   "language": "python",
   "name": "python3"
  },
  "language_info": {
   "codemirror_mode": {
    "name": "ipython",
    "version": 3
   },
   "file_extension": ".py",
   "mimetype": "text/x-python",
   "name": "python",
   "nbconvert_exporter": "python",
   "pygments_lexer": "ipython3",
   "version": "3.8.3"
  }
 },
 "nbformat": 4,
 "nbformat_minor": 4
}
